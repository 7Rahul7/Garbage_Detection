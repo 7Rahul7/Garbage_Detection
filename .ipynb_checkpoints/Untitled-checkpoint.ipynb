{
 "cells": [
  {
   "cell_type": "code",
   "execution_count": null,
   "id": "7514d915-fd7a-482c-8fe8-9471656130a3",
   "metadata": {},
   "outputs": [],
   "source": [
    "!uv pip install seaborn\n",
    "!uv pip install matplotlib\n",
    "!uv pip install numpy\n",
    "!uv pip install tensorflow\n",
    "# !uv pip install kagglehub"
   ]
  },
  {
   "cell_type": "code",
   "execution_count": null,
   "id": "97edb247-adb1-42b8-97e1-1c5cf10b5b46",
   "metadata": {},
   "outputs": [],
   "source": [
    "import tensorflow as tf\n",
    "import matplotlib.pyplot as plt\n",
    "import seaborn as sns\n",
    "import numpy as np\n"
   ]
  },
  {
   "cell_type": "code",
   "execution_count": null,
   "id": "d5b54a52",
   "metadata": {},
   "outputs": [],
   "source": [
    "eff_net_model = tf.keras.applications.EfficientNetV2S(\n",
    "    weights='imagenet',\n",
    "    include_top=False,\n",
    "    input_shape=(32,32,3)\n",
    ")\n",
    "\n",
    "eff_net_model.trainable = False"
   ]
  },
  {
   "cell_type": "code",
   "execution_count": null,
   "id": "5ebfb975",
   "metadata": {},
   "outputs": [],
   "source": [
    "eff_net_model.summary()"
   ]
  },
  {
   "cell_type": "code",
   "execution_count": null,
   "id": "a4b00744",
   "metadata": {},
   "outputs": [],
   "source": [
    "print(f'Total layers: {len(eff_net_model.layers)}')"
   ]
  },
  {
   "cell_type": "code",
   "execution_count": null,
   "id": "1f2d63a3-f03a-4dbf-9df9-fa01e2e5fea9",
   "metadata": {},
   "outputs": [],
   "source": []
  },
  {
   "cell_type": "code",
   "execution_count": null,
   "id": "7409c851-6fd9-4e22-bd23-325ff2a4b7a4",
   "metadata": {},
   "outputs": [],
   "source": [
    "# import kagglehub\n",
    "\n",
    "# # Download latest version\n",
    "# path = kagglehub.dataset_download(\"mostafaabla/garbage-classification\")\n",
    "\n",
    "# print(\"Path to dataset files:\", path)"
   ]
  },
  {
   "cell_type": "code",
   "execution_count": null,
   "id": "99295502-8331-48a0-82b0-c3b8e5c41325",
   "metadata": {},
   "outputs": [],
   "source": [
    "import os\n",
    "\n",
    "count = 0\n",
    "dir_path = os.listdir('garbage_classification/')\n",
    "for dir in dir_path:\n",
    "    files = list(os.listdir('garbage_classification/' + dir))\n",
    "    print(f\"{dir} folder has {str(len(files))} images\")\n",
    "    count = count + len(files)\n",
    "    \n",
    "print(f\"Garbage_classification has {str(count)} Images.\")\n",
    "                 "
   ]
  },
  {
   "cell_type": "code",
   "execution_count": null,
   "id": "e1d99b00-6935-4ec4-b51a-464872eca5d1",
   "metadata": {},
   "outputs": [],
   "source": [
    "directory = 'garbage_classification/'\n",
    "train_data = tf.keras.utils.image_dataset_from_directory(\n",
    "    directory,\n",
    "    validation_split=0.2,\n",
    "    subset=\"training\",\n",
    "    seed=42,\n",
    "    image_size=(256, 256),\n",
    "    batch_size=32\n",
    ")\n",
    "\n",
    "val_data = tf.keras.utils.image_dataset_from_directory(\n",
    "    directory,\n",
    "    validation_split=0.2,\n",
    "    subset=\"validation\",\n",
    "    seed=42,\n",
    "    image_size=(256, 256),\n",
    "    batch_size=32\n",
    ")\n"
   ]
  },
  {
   "cell_type": "code",
   "execution_count": null,
   "id": "8855d3ac-cf35-45f9-8867-90b6eca89404",
   "metadata": {},
   "outputs": [],
   "source": [
    "print(f\"The datatype of train_data: {type(train_data)}\")"
   ]
  },
  {
   "cell_type": "code",
   "execution_count": null,
   "id": "3a74a4cf-0db8-46c7-965b-208c5c2e4ca0",
   "metadata": {},
   "outputs": [],
   "source": [
    "print(f\"The different type of class ares:\\n {train_data.class_names}\")"
   ]
  },
  {
   "cell_type": "code",
   "execution_count": null,
   "id": "d572eade-23df-4196-b771-5a2c7192b22d",
   "metadata": {},
   "outputs": [],
   "source": [
    "print(f\"The total number of class ares: {len(train_data.class_names)}\")"
   ]
  },
  {
   "cell_type": "code",
   "execution_count": null,
   "id": "959919da-ec35-4d9d-a4df-56b74f96c463",
   "metadata": {},
   "outputs": [],
   "source": [
    "garbage_names = train_data.class_names\n",
    "i=0\n",
    "plt.figure(figsize=(10,10))\n",
    "for images, labels in train_data.take(1):\n",
    "    for i in range (9):\n",
    "        plt.subplot(3,3,i+1)\n",
    "        plt.imshow(images[i].numpy().astype('uint8'))\n",
    "        plt.title(garbage_names[labels[i]])\n",
    "        plt.axis('off')\n",
    "plt.show()"
   ]
  },
  {
   "cell_type": "code",
   "execution_count": null,
   "id": "1b755cf9-8ddf-4c03-a8c8-696df9fea639",
   "metadata": {},
   "outputs": [],
   "source": [
    "all_labels = []\n",
    "\n",
    "for images,labels in train_data:\n",
    "    all_labels.extend(labels.numpy())\n",
    "\n",
    "all_labels = np.array(all_labels)\n",
    "\n",
    "plt.figure(figsize=(8,6))\n",
    "sns.countplot(x=all_labels,palette='Set2')\n",
    "\n",
    "plt.xticks(ticks = range(len(garbage_names)), labels = garbage_names, rotation = 45)\n",
    "\n",
    "plt.xlabel('Garbage Class')\n",
    "# plt.ylabel('Number of Images')\n",
    "plt.title('Class Distribution in Training Data')\n",
    "plt.legend()\n",
    "plt.show()\n"
   ]
  },
  {
   "cell_type": "code",
   "execution_count": null,
   "id": "20bdea29-ffb0-4d4b-a734-6684190e37e1",
   "metadata": {},
   "outputs": [],
   "source": [
    "class_index = garbage_names.index('battery')  # Suppose you want 'Metal\n",
    "count_battery = np.sum(all_labels == class_index)\n",
    "print(f\"Number of images for 'Battery': {count_battery}\")"
   ]
  },
  {
   "cell_type": "code",
   "execution_count": null,
   "id": "4a488cbe-7463-4573-95fb-7c12a6b15ce1",
   "metadata": {},
   "outputs": [],
   "source": [
    "AUTOTUNE = tf.data.AUTOTUNE"
   ]
  },
  {
   "cell_type": "code",
   "execution_count": null,
   "id": "949d8d21-6197-403b-b2be-63db38c2c43f",
   "metadata": {},
   "outputs": [],
   "source": [
    "train_data = train_data.cache().shuffle(1000).prefetch(buffer_size= AUTOTUNE)"
   ]
  },
  {
   "cell_type": "code",
   "execution_count": null,
   "id": "bd4c8e0e-29d5-4d2a-9894-4591af780a11",
   "metadata": {},
   "outputs": [],
   "source": [
    "val_data_data = val_data.cache().shuffle(1000).prefetch(buffer_size= AUTOTUNE)\n"
   ]
  },
  {
   "cell_type": "code",
   "execution_count": null,
   "id": "bf9b582f-9768-4520-9252-ddb1b891d08f",
   "metadata": {},
   "outputs": [],
   "source": [
    "from tensorflow import keras\n",
    "from tensorflow.keras import layers\n",
    "from tensorflow.keras.models import Sequential, load_model\n",
    "from tensorflow.keras.layers import Conv2D,Dropout,Flatten,MaxPool2D"
   ]
  },
  {
   "cell_type": "code",
   "execution_count": null,
   "id": "ff187c5f-9114-4d70-82d4-71b3d89fbded",
   "metadata": {},
   "outputs": [],
   "source": [
    "data_augmentation = Sequential([\n",
    "    keras.Input(shape=(180,180,3)),\n",
    "    layers.RandomFlip(\"horizontal\"),\n",
    "    layers.RandomRotation(0.1),\n",
    "    layers.RandomZoom(0.1),\n",
    "])\n",
    "    "
   ]
  },
  {
   "cell_type": "code",
   "execution_count": null,
   "id": "63b62cea-a7c5-44c6-b83c-047cc81766c9",
   "metadata": {},
   "outputs": [],
   "source": [
    "# garbage_names = train_data.class_names\n",
    "i=0\n",
    "plt.figure(figsize=(10,10))\n",
    "for images, labels in train_data.take(1):\n",
    "    for i in range (9):\n",
    "        plt.subplot(3,3,i+1)\n",
    "        plt.imshow(images[i].numpy().astype('uint8'))\n",
    "        # plt.title(garbage_names[labels[i]])\n",
    "        plt.axis('off')\n",
    "plt.show()"
   ]
  },
  {
   "cell_type": "code",
   "execution_count": null,
   "id": "baeca0cc-fecb-4902-a561-7eacac307f73",
   "metadata": {},
   "outputs": [],
   "source": []
  }
 ],
 "metadata": {
  "kernelspec": {
   "display_name": "Python 3 (ipykernel)",
   "language": "python",
   "name": "python3"
  },
  "language_info": {
   "codemirror_mode": {
    "name": "ipython",
    "version": 3
   },
   "file_extension": ".py",
   "mimetype": "text/x-python",
   "name": "python",
   "nbconvert_exporter": "python",
   "pygments_lexer": "ipython3",
   "version": "3.11.12"
  }
 },
 "nbformat": 4,
 "nbformat_minor": 5
}
